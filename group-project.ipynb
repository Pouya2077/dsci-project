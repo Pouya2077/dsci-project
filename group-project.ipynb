{
 "cells": [
  {
   "cell_type": "markdown",
   "id": "80fbac3d-2f6d-4f7c-bb13-ecf6a5f6b472",
   "metadata": {},
   "source": [
    "# Final Project Report "
   ]
  },
  {
   "cell_type": "markdown",
   "id": "838e4099-6c9b-45f3-b879-274c3cda69b2",
   "metadata": {},
   "source": [
    "## Section 1 - Introduction"
   ]
  },
  {
   "cell_type": "markdown",
   "id": "c363f0c4-eab1-49ba-86d7-f1be14dee003",
   "metadata": {},
   "source": [
    "We will begin by loading in the libraries we need for our wrangling and predictions."
   ]
  },
  {
   "cell_type": "code",
   "execution_count": 1,
   "id": "be5b8d2a-989b-4ab2-9aa8-084d90b7398d",
   "metadata": {},
   "outputs": [
    {
     "name": "stderr",
     "output_type": "stream",
     "text": [
      "── \u001b[1mAttaching core tidyverse packages\u001b[22m ──────────────────────── tidyverse 2.0.0 ──\n",
      "\u001b[32m✔\u001b[39m \u001b[34mdplyr    \u001b[39m 1.1.4     \u001b[32m✔\u001b[39m \u001b[34mreadr    \u001b[39m 2.1.5\n",
      "\u001b[32m✔\u001b[39m \u001b[34mforcats  \u001b[39m 1.0.0     \u001b[32m✔\u001b[39m \u001b[34mstringr  \u001b[39m 1.5.1\n",
      "\u001b[32m✔\u001b[39m \u001b[34mggplot2  \u001b[39m 3.5.1     \u001b[32m✔\u001b[39m \u001b[34mtibble   \u001b[39m 3.2.1\n",
      "\u001b[32m✔\u001b[39m \u001b[34mlubridate\u001b[39m 1.9.3     \u001b[32m✔\u001b[39m \u001b[34mtidyr    \u001b[39m 1.3.1\n",
      "\u001b[32m✔\u001b[39m \u001b[34mpurrr    \u001b[39m 1.0.2     \n",
      "── \u001b[1mConflicts\u001b[22m ────────────────────────────────────────── tidyverse_conflicts() ──\n",
      "\u001b[31m✖\u001b[39m \u001b[34mdplyr\u001b[39m::\u001b[32mfilter()\u001b[39m masks \u001b[34mstats\u001b[39m::filter()\n",
      "\u001b[31m✖\u001b[39m \u001b[34mdplyr\u001b[39m::\u001b[32mlag()\u001b[39m    masks \u001b[34mstats\u001b[39m::lag()\n",
      "\u001b[36mℹ\u001b[39m Use the conflicted package (\u001b[3m\u001b[34m<http://conflicted.r-lib.org/>\u001b[39m\u001b[23m) to force all conflicts to become errors\n"
     ]
    }
   ],
   "source": [
    "library(tidyverse) \n",
    "library(repr)\n",
    "library(lubridate)\n",
    "options(repr.matrix.max.rows = 6)"
   ]
  },
  {
   "cell_type": "markdown",
   "id": "8f80eada-c0c2-4b6c-95a9-7b8c898aae60",
   "metadata": {},
   "source": [
    "**Background Information:**\n",
    "\n",
    "This project report uses 2 datasets extracted from the Plaicraft project at UBC. We have one data set with information about players which are observations and another with information about play sessions. \n",
    "\n",
    "PlaiCraft is a minecraft server setup by UBC to gather data on human play sessions. \n",
    "\n",
    "We will use these 2 datasets to make a prediction that will help us answer our predictive question.\n"
   ]
  },
  {
   "cell_type": "markdown",
   "id": "d813417e-4c39-4a3f-8cb8-397f3ca21d49",
   "metadata": {},
   "source": [
    "**Question:**\n",
    "\n",
    "Our specific question would be whether a player's age and gender can accurately predict a player's total played hours using knn-regression to obtain players that contribute the largest amount of data."
   ]
  },
  {
   "cell_type": "markdown",
   "id": "19d94ce9-672f-48f3-b94b-e366749f9003",
   "metadata": {},
   "source": []
  },
  {
   "cell_type": "markdown",
   "id": "fc2a009d-03b6-4156-8677-16910982eb1a",
   "metadata": {},
   "source": []
  },
  {
   "cell_type": "markdown",
   "id": "91c1741e-0871-4faf-a81a-86ff6819ed96",
   "metadata": {},
   "source": []
  },
  {
   "cell_type": "markdown",
   "id": "c806ebcd-b2ea-49b7-87e4-9ca09d81fbb1",
   "metadata": {},
   "source": []
  },
  {
   "cell_type": "code",
   "execution_count": null,
   "id": "c6fde47e-7bf4-45f8-a8df-9e06cc80c4c6",
   "metadata": {},
   "outputs": [],
   "source": []
  }
 ],
 "metadata": {
  "kernelspec": {
   "display_name": "R",
   "language": "R",
   "name": "ir"
  },
  "language_info": {
   "codemirror_mode": "r",
   "file_extension": ".r",
   "mimetype": "text/x-r-source",
   "name": "R",
   "pygments_lexer": "r",
   "version": "4.3.3"
  }
 },
 "nbformat": 4,
 "nbformat_minor": 5
}
