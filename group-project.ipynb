{
 "cells": [
  {
   "cell_type": "markdown",
   "id": "80fbac3d-2f6d-4f7c-bb13-ecf6a5f6b472",
   "metadata": {},
   "source": [
    "# DSCI100 Final Project Report \n",
    "\n",
    "###  By Pouya Khoshnavazi, Tom Shi, Ege Taslicay, Rudra Patel"
   ]
  },
  {
   "cell_type": "markdown",
   "id": "838e4099-6c9b-45f3-b879-274c3cda69b2",
   "metadata": {},
   "source": [
    "## Section 1 - Introduction"
   ]
  },
  {
   "cell_type": "markdown",
   "id": "c363f0c4-eab1-49ba-86d7-f1be14dee003",
   "metadata": {},
   "source": [
    "We will begin by loading in the libraries we need for our wrangling and predictions."
   ]
  },
  {
   "cell_type": "code",
   "execution_count": 2,
   "id": "be5b8d2a-989b-4ab2-9aa8-084d90b7398d",
   "metadata": {},
   "outputs": [
    {
     "name": "stderr",
     "output_type": "stream",
     "text": [
      "── \u001b[1mAttaching core tidyverse packages\u001b[22m ──────────────────────── tidyverse 2.0.0 ──\n",
      "\u001b[32m✔\u001b[39m \u001b[34mdplyr    \u001b[39m 1.1.4     \u001b[32m✔\u001b[39m \u001b[34mreadr    \u001b[39m 2.1.5\n",
      "\u001b[32m✔\u001b[39m \u001b[34mforcats  \u001b[39m 1.0.0     \u001b[32m✔\u001b[39m \u001b[34mstringr  \u001b[39m 1.5.1\n",
      "\u001b[32m✔\u001b[39m \u001b[34mggplot2  \u001b[39m 3.5.1     \u001b[32m✔\u001b[39m \u001b[34mtibble   \u001b[39m 3.2.1\n",
      "\u001b[32m✔\u001b[39m \u001b[34mlubridate\u001b[39m 1.9.3     \u001b[32m✔\u001b[39m \u001b[34mtidyr    \u001b[39m 1.3.1\n",
      "\u001b[32m✔\u001b[39m \u001b[34mpurrr    \u001b[39m 1.0.2     \n",
      "── \u001b[1mConflicts\u001b[22m ────────────────────────────────────────── tidyverse_conflicts() ──\n",
      "\u001b[31m✖\u001b[39m \u001b[34mdplyr\u001b[39m::\u001b[32mfilter()\u001b[39m masks \u001b[34mstats\u001b[39m::filter()\n",
      "\u001b[31m✖\u001b[39m \u001b[34mdplyr\u001b[39m::\u001b[32mlag()\u001b[39m    masks \u001b[34mstats\u001b[39m::lag()\n",
      "\u001b[36mℹ\u001b[39m Use the conflicted package (\u001b[3m\u001b[34m<http://conflicted.r-lib.org/>\u001b[39m\u001b[23m) to force all conflicts to become errors\n",
      "\n",
      "Attaching package: ‘hms’\n",
      "\n",
      "\n",
      "The following object is masked from ‘package:lubridate’:\n",
      "\n",
      "    hms\n",
      "\n",
      "\n"
     ]
    }
   ],
   "source": [
    "library(tidyverse) \n",
    "library(repr)\n",
    "library(lubridate)\n",
    "options(repr.matrix.max.rows = 6)\n",
    "library(hms)"
   ]
  },
  {
   "cell_type": "markdown",
   "id": "8f80eada-c0c2-4b6c-95a9-7b8c898aae60",
   "metadata": {},
   "source": [
    "**Background Information:**\n",
    "\n",
    "This project report uses 2 datasets extracted from the Plaicraft project at UBC. We have one data set with information about players which are observations and another with information about play sessions. \n",
    "\n",
    "PlaiCraft is a minecraft server setup by UBC to gather data on human play sessions. \n",
    "\n",
    "We will use these 2 datasets to make a prediction that will help us answer our predictive question.\n"
   ]
  },
  {
   "cell_type": "markdown",
   "id": "d813417e-4c39-4a3f-8cb8-397f3ca21d49",
   "metadata": {},
   "source": [
    "**Question:**\n",
    "\n",
    "Our specific question would be whether a player's age and experience level can accurately predict a player's total played hours using knn-regression to obtain players that contribute the largest amount of data."
   ]
  },
  {
   "cell_type": "markdown",
   "id": "19d94ce9-672f-48f3-b94b-e366749f9003",
   "metadata": {},
   "source": [
    "**Data Description**\n",
    "\n",
    "The data for this project consists of two files: one for player data and one for session data.\n",
    "\n",
    "**Players File (players.csv):**\n",
    "- **Number of observations / Rows**: 196\n",
    "- **Number of variables / Columns**: 9\n",
    "- **Variables**:\n",
    "  - **experience**: Categorical, indicating player’s experience level (e.g., Beginner, Pro).\n",
    "  - **subscribe**: Categorical, indicating email subscription status.\n",
    "  - **hashedEmail**: Unique hashed identifier for each players email.\n",
    "  - **played_hours**: Numerical, total hours played.\n",
    "  - **name**: Player’s name.\n",
    "  - **gender**: Categorical (e.g., Male, Female) players gender.\n",
    "  - **age**: Numeric, player’s age.\n",
    "  - **individualId**: Empty column.\n",
    "  - **organizationName**: Empty column.\n",
    "\n",
    "**Sessions File (sessions.csv):**\n",
    "- **Number of observations / Rows**: 1,535\n",
    "- **Number of variables / Columns**: 5\n",
    "- **Variables**:\n",
    "  - **hashedEmail**: Hashed identifier linking to players.\n",
    "  - **start_time**: Date, session start time.\n",
    "  - **end_time**: Date, session end time.\n",
    "  - **original_start_time**: Unix timestamp for session start.\n",
    "  - **original_end_time**: Unix timestamp for session end.\n",
    "\n",
    "**Potential Issues**:\n",
    "- **Missing data**: Some cells may be empty; `individualId` and `organizationName` are empty.\n",
    "- **Unix Time**: May need conversion for better usability or removal since redundant.\n"
   ]
  },
  {
   "cell_type": "markdown",
   "id": "4f21d399-4e45-4c5d-bc2b-8c946eb14539",
   "metadata": {},
   "source": [
    "## Section 2 - Methods and results"
   ]
  },
  {
   "cell_type": "code",
   "execution_count": 7,
   "id": "552d72de-5176-43a1-a198-f7e5b3814f67",
   "metadata": {},
   "outputs": [
    {
     "name": "stderr",
     "output_type": "stream",
     "text": [
      "\u001b[1mRows: \u001b[22m\u001b[34m196\u001b[39m \u001b[1mColumns: \u001b[22m\u001b[34m9\u001b[39m\n",
      "\u001b[36m──\u001b[39m \u001b[1mColumn specification\u001b[22m \u001b[36m────────────────────────────────────────────────────────\u001b[39m\n",
      "\u001b[1mDelimiter:\u001b[22m \",\"\n",
      "\u001b[31mchr\u001b[39m (4): experience, hashedEmail, name, gender\n",
      "\u001b[32mdbl\u001b[39m (2): played_hours, age\n",
      "\u001b[33mlgl\u001b[39m (3): subscribe, individualId, organizationName\n",
      "\n",
      "\u001b[36mℹ\u001b[39m Use `spec()` to retrieve the full column specification for this data.\n",
      "\u001b[36mℹ\u001b[39m Specify the column types or set `show_col_types = FALSE` to quiet this message.\n",
      "\u001b[1mRows: \u001b[22m\u001b[34m1535\u001b[39m \u001b[1mColumns: \u001b[22m\u001b[34m5\u001b[39m\n",
      "\u001b[36m──\u001b[39m \u001b[1mColumn specification\u001b[22m \u001b[36m────────────────────────────────────────────────────────\u001b[39m\n",
      "\u001b[1mDelimiter:\u001b[22m \",\"\n",
      "\u001b[31mchr\u001b[39m (3): hashedEmail, start_time, end_time\n",
      "\u001b[32mdbl\u001b[39m (2): original_start_time, original_end_time\n",
      "\n",
      "\u001b[36mℹ\u001b[39m Use `spec()` to retrieve the full column specification for this data.\n",
      "\u001b[36mℹ\u001b[39m Specify the column types or set `show_col_types = FALSE` to quiet this message.\n",
      "Warning message:\n",
      "“\u001b[1m\u001b[22mExpected 2 pieces. Missing pieces filled with `NA` in 3 rows [106, 1221, 1222].”\n",
      "Warning message:\n",
      "“\u001b[1m\u001b[22mExpected 2 pieces. Missing pieces filled with `NA` in 4 rows [52, 1063, 1066,\n",
      "1238].”\n"
     ]
    },
    {
     "data": {
      "text/html": [
       "<table class=\"dataframe\">\n",
       "<caption>A tibble: 1535 × 5</caption>\n",
       "<thead>\n",
       "\t<tr><th scope=col>hashedEmail</th><th scope=col>start_date</th><th scope=col>start_time_only</th><th scope=col>end_date</th><th scope=col>end_time_only</th></tr>\n",
       "\t<tr><th scope=col>&lt;chr&gt;</th><th scope=col>&lt;chr&gt;</th><th scope=col>&lt;chr&gt;</th><th scope=col>&lt;chr&gt;</th><th scope=col>&lt;chr&gt;</th></tr>\n",
       "</thead>\n",
       "<tbody>\n",
       "\t<tr><td>bfce39c89d6549f2bb94d8064d3ce69dc3d7e72b38f431d8aa0c4bf95ccee6bf</td><td>2024-06-30</td><td>18:12:00</td><td>2024-06-30</td><td>18:24:00</td></tr>\n",
       "\t<tr><td>36d9cbb4c6bc0c1a6911436d2da0d09ec625e43e6552f575d4acc9cf487c4686</td><td>2024-06-17</td><td>23:33:00</td><td>2024-06-17</td><td>23:46:00</td></tr>\n",
       "\t<tr><td>f8f5477f5a2e53616ae37421b1c660b971192bd8ff77e3398304c7ae42581fdc</td><td>2024-07-25</td><td>17:34:00</td><td>2024-07-25</td><td>17:57:00</td></tr>\n",
       "\t<tr><td>⋮</td><td>⋮</td><td>⋮</td><td>⋮</td><td>⋮</td></tr>\n",
       "\t<tr><td>fd6563a4e0f6f4273580e5fedbd8dda64990447aea5a33cbb5e894a3867ca44d</td><td>2024-07-28</td><td>15:36:00</td><td>2024-07-28</td><td>15:57:00</td></tr>\n",
       "\t<tr><td>fd6563a4e0f6f4273580e5fedbd8dda64990447aea5a33cbb5e894a3867ca44d</td><td>2024-07-25</td><td>06:15:00</td><td>2024-07-25</td><td>06:22:00</td></tr>\n",
       "\t<tr><td>36d9cbb4c6bc0c1a6911436d2da0d09ec625e43e6552f575d4acc9cf487c4686</td><td>2024-05-20</td><td>02:26:00</td><td>2024-05-20</td><td>02:45:00</td></tr>\n",
       "</tbody>\n",
       "</table>\n"
      ],
      "text/latex": [
       "A tibble: 1535 × 5\n",
       "\\begin{tabular}{lllll}\n",
       " hashedEmail & start\\_date & start\\_time\\_only & end\\_date & end\\_time\\_only\\\\\n",
       " <chr> & <chr> & <chr> & <chr> & <chr>\\\\\n",
       "\\hline\n",
       "\t bfce39c89d6549f2bb94d8064d3ce69dc3d7e72b38f431d8aa0c4bf95ccee6bf & 2024-06-30 & 18:12:00 & 2024-06-30 & 18:24:00\\\\\n",
       "\t 36d9cbb4c6bc0c1a6911436d2da0d09ec625e43e6552f575d4acc9cf487c4686 & 2024-06-17 & 23:33:00 & 2024-06-17 & 23:46:00\\\\\n",
       "\t f8f5477f5a2e53616ae37421b1c660b971192bd8ff77e3398304c7ae42581fdc & 2024-07-25 & 17:34:00 & 2024-07-25 & 17:57:00\\\\\n",
       "\t ⋮ & ⋮ & ⋮ & ⋮ & ⋮\\\\\n",
       "\t fd6563a4e0f6f4273580e5fedbd8dda64990447aea5a33cbb5e894a3867ca44d & 2024-07-28 & 15:36:00 & 2024-07-28 & 15:57:00\\\\\n",
       "\t fd6563a4e0f6f4273580e5fedbd8dda64990447aea5a33cbb5e894a3867ca44d & 2024-07-25 & 06:15:00 & 2024-07-25 & 06:22:00\\\\\n",
       "\t 36d9cbb4c6bc0c1a6911436d2da0d09ec625e43e6552f575d4acc9cf487c4686 & 2024-05-20 & 02:26:00 & 2024-05-20 & 02:45:00\\\\\n",
       "\\end{tabular}\n"
      ],
      "text/markdown": [
       "\n",
       "A tibble: 1535 × 5\n",
       "\n",
       "| hashedEmail &lt;chr&gt; | start_date &lt;chr&gt; | start_time_only &lt;chr&gt; | end_date &lt;chr&gt; | end_time_only &lt;chr&gt; |\n",
       "|---|---|---|---|---|\n",
       "| bfce39c89d6549f2bb94d8064d3ce69dc3d7e72b38f431d8aa0c4bf95ccee6bf | 2024-06-30 | 18:12:00 | 2024-06-30 | 18:24:00 |\n",
       "| 36d9cbb4c6bc0c1a6911436d2da0d09ec625e43e6552f575d4acc9cf487c4686 | 2024-06-17 | 23:33:00 | 2024-06-17 | 23:46:00 |\n",
       "| f8f5477f5a2e53616ae37421b1c660b971192bd8ff77e3398304c7ae42581fdc | 2024-07-25 | 17:34:00 | 2024-07-25 | 17:57:00 |\n",
       "| ⋮ | ⋮ | ⋮ | ⋮ | ⋮ |\n",
       "| fd6563a4e0f6f4273580e5fedbd8dda64990447aea5a33cbb5e894a3867ca44d | 2024-07-28 | 15:36:00 | 2024-07-28 | 15:57:00 |\n",
       "| fd6563a4e0f6f4273580e5fedbd8dda64990447aea5a33cbb5e894a3867ca44d | 2024-07-25 | 06:15:00 | 2024-07-25 | 06:22:00 |\n",
       "| 36d9cbb4c6bc0c1a6911436d2da0d09ec625e43e6552f575d4acc9cf487c4686 | 2024-05-20 | 02:26:00 | 2024-05-20 | 02:45:00 |\n",
       "\n"
      ],
      "text/plain": [
       "     hashedEmail                                                     \n",
       "1    bfce39c89d6549f2bb94d8064d3ce69dc3d7e72b38f431d8aa0c4bf95ccee6bf\n",
       "2    36d9cbb4c6bc0c1a6911436d2da0d09ec625e43e6552f575d4acc9cf487c4686\n",
       "3    f8f5477f5a2e53616ae37421b1c660b971192bd8ff77e3398304c7ae42581fdc\n",
       "⋮    ⋮                                                               \n",
       "1533 fd6563a4e0f6f4273580e5fedbd8dda64990447aea5a33cbb5e894a3867ca44d\n",
       "1534 fd6563a4e0f6f4273580e5fedbd8dda64990447aea5a33cbb5e894a3867ca44d\n",
       "1535 36d9cbb4c6bc0c1a6911436d2da0d09ec625e43e6552f575d4acc9cf487c4686\n",
       "     start_date start_time_only end_date   end_time_only\n",
       "1    2024-06-30 18:12:00        2024-06-30 18:24:00     \n",
       "2    2024-06-17 23:33:00        2024-06-17 23:46:00     \n",
       "3    2024-07-25 17:34:00        2024-07-25 17:57:00     \n",
       "⋮    ⋮          ⋮               ⋮          ⋮            \n",
       "1533 2024-07-28 15:36:00        2024-07-28 15:57:00     \n",
       "1534 2024-07-25 06:15:00        2024-07-25 06:22:00     \n",
       "1535 2024-05-20 02:26:00        2024-05-20 02:45:00     "
      ]
     },
     "metadata": {},
     "output_type": "display_data"
    },
    {
     "data": {
      "text/html": [
       "<table class=\"dataframe\">\n",
       "<caption>A tibble: 196 × 7</caption>\n",
       "<thead>\n",
       "\t<tr><th scope=col>hashedEmail</th><th scope=col>played_hours</th><th scope=col>name</th><th scope=col>gender</th><th scope=col>age</th><th scope=col>experience</th><th scope=col>experience_num</th></tr>\n",
       "\t<tr><th scope=col>&lt;chr&gt;</th><th scope=col>&lt;dbl&gt;</th><th scope=col>&lt;chr&gt;</th><th scope=col>&lt;chr&gt;</th><th scope=col>&lt;dbl&gt;</th><th scope=col>&lt;chr&gt;</th><th scope=col>&lt;dbl&gt;</th></tr>\n",
       "</thead>\n",
       "<tbody>\n",
       "\t<tr><td>f6daba428a5e19a3d47574858c13550499be23603422e6a0ee9728f8b53e192d</td><td>30.3</td><td>Morgan   </td><td>Male</td><td> 9</td><td>Pro    </td><td>4</td></tr>\n",
       "\t<tr><td>f3c813577c458ba0dfef80996f8f32c93b6e8af1fa939732842f2312358a88e9</td><td> 3.8</td><td>Christian</td><td>Male</td><td>17</td><td>Veteran</td><td>5</td></tr>\n",
       "\t<tr><td>b674dd7ee0d24096d1c019615ce4d12b20fcbff12d79d3c5a9d2118eb7ccbb28</td><td> 0.0</td><td>Blake    </td><td>Male</td><td>17</td><td>Veteran</td><td>5</td></tr>\n",
       "\t<tr><td>⋮</td><td>⋮</td><td>⋮</td><td>⋮</td><td>⋮</td><td>⋮</td><td>⋮</td></tr>\n",
       "\t<tr><td>d572f391d452b76ea2d7e5e53a3d38bfd7499c7399db299bd4fedb06a46ad5bb</td><td>0.0</td><td>Dylan </td><td>Prefer not to say</td><td>17</td><td>Amateur</td><td>2</td></tr>\n",
       "\t<tr><td>f19e136ddde68f365afc860c725ccff54307dedd13968e896a9f890c40aea436</td><td>2.3</td><td>Harlow</td><td>Male             </td><td>17</td><td>Amateur</td><td>2</td></tr>\n",
       "\t<tr><td>d9473710057f7d42f36570f0be83817a4eea614029ff90cf50d8889cdd729d11</td><td>0.2</td><td>Ahmed </td><td>Other            </td><td>91</td><td>Pro    </td><td>4</td></tr>\n",
       "</tbody>\n",
       "</table>\n"
      ],
      "text/latex": [
       "A tibble: 196 × 7\n",
       "\\begin{tabular}{lllllll}\n",
       " hashedEmail & played\\_hours & name & gender & age & experience & experience\\_num\\\\\n",
       " <chr> & <dbl> & <chr> & <chr> & <dbl> & <chr> & <dbl>\\\\\n",
       "\\hline\n",
       "\t f6daba428a5e19a3d47574858c13550499be23603422e6a0ee9728f8b53e192d & 30.3 & Morgan    & Male &  9 & Pro     & 4\\\\\n",
       "\t f3c813577c458ba0dfef80996f8f32c93b6e8af1fa939732842f2312358a88e9 &  3.8 & Christian & Male & 17 & Veteran & 5\\\\\n",
       "\t b674dd7ee0d24096d1c019615ce4d12b20fcbff12d79d3c5a9d2118eb7ccbb28 &  0.0 & Blake     & Male & 17 & Veteran & 5\\\\\n",
       "\t ⋮ & ⋮ & ⋮ & ⋮ & ⋮ & ⋮ & ⋮\\\\\n",
       "\t d572f391d452b76ea2d7e5e53a3d38bfd7499c7399db299bd4fedb06a46ad5bb & 0.0 & Dylan  & Prefer not to say & 17 & Amateur & 2\\\\\n",
       "\t f19e136ddde68f365afc860c725ccff54307dedd13968e896a9f890c40aea436 & 2.3 & Harlow & Male              & 17 & Amateur & 2\\\\\n",
       "\t d9473710057f7d42f36570f0be83817a4eea614029ff90cf50d8889cdd729d11 & 0.2 & Ahmed  & Other             & 91 & Pro     & 4\\\\\n",
       "\\end{tabular}\n"
      ],
      "text/markdown": [
       "\n",
       "A tibble: 196 × 7\n",
       "\n",
       "| hashedEmail &lt;chr&gt; | played_hours &lt;dbl&gt; | name &lt;chr&gt; | gender &lt;chr&gt; | age &lt;dbl&gt; | experience &lt;chr&gt; | experience_num &lt;dbl&gt; |\n",
       "|---|---|---|---|---|---|---|\n",
       "| f6daba428a5e19a3d47574858c13550499be23603422e6a0ee9728f8b53e192d | 30.3 | Morgan    | Male |  9 | Pro     | 4 |\n",
       "| f3c813577c458ba0dfef80996f8f32c93b6e8af1fa939732842f2312358a88e9 |  3.8 | Christian | Male | 17 | Veteran | 5 |\n",
       "| b674dd7ee0d24096d1c019615ce4d12b20fcbff12d79d3c5a9d2118eb7ccbb28 |  0.0 | Blake     | Male | 17 | Veteran | 5 |\n",
       "| ⋮ | ⋮ | ⋮ | ⋮ | ⋮ | ⋮ | ⋮ |\n",
       "| d572f391d452b76ea2d7e5e53a3d38bfd7499c7399db299bd4fedb06a46ad5bb | 0.0 | Dylan  | Prefer not to say | 17 | Amateur | 2 |\n",
       "| f19e136ddde68f365afc860c725ccff54307dedd13968e896a9f890c40aea436 | 2.3 | Harlow | Male              | 17 | Amateur | 2 |\n",
       "| d9473710057f7d42f36570f0be83817a4eea614029ff90cf50d8889cdd729d11 | 0.2 | Ahmed  | Other             | 91 | Pro     | 4 |\n",
       "\n"
      ],
      "text/plain": [
       "    hashedEmail                                                     \n",
       "1   f6daba428a5e19a3d47574858c13550499be23603422e6a0ee9728f8b53e192d\n",
       "2   f3c813577c458ba0dfef80996f8f32c93b6e8af1fa939732842f2312358a88e9\n",
       "3   b674dd7ee0d24096d1c019615ce4d12b20fcbff12d79d3c5a9d2118eb7ccbb28\n",
       "⋮   ⋮                                                               \n",
       "194 d572f391d452b76ea2d7e5e53a3d38bfd7499c7399db299bd4fedb06a46ad5bb\n",
       "195 f19e136ddde68f365afc860c725ccff54307dedd13968e896a9f890c40aea436\n",
       "196 d9473710057f7d42f36570f0be83817a4eea614029ff90cf50d8889cdd729d11\n",
       "    played_hours name      gender            age experience experience_num\n",
       "1   30.3         Morgan    Male               9  Pro        4             \n",
       "2    3.8         Christian Male              17  Veteran    5             \n",
       "3    0.0         Blake     Male              17  Veteran    5             \n",
       "⋮   ⋮            ⋮         ⋮                 ⋮   ⋮          ⋮             \n",
       "194 0.0          Dylan     Prefer not to say 17  Amateur    2             \n",
       "195 2.3          Harlow    Male              17  Amateur    2             \n",
       "196 0.2          Ahmed     Other             91  Pro        4             "
      ]
     },
     "metadata": {},
     "output_type": "display_data"
    }
   ],
   "source": [
    "# Reading data into R from given link.\n",
    "\n",
    "player_data <- read_csv(\"https://drive.google.com/uc?export=download&id=1Mw9vW0hjTJwRWx0bDXiSpYsO3gKogaPz\")\n",
    "\n",
    "session_data <- read_csv(\"https://drive.google.com/uc?export=download&id=14O91N5OlVkvdGxXNJUj5jIsV5RexhzbB\")\n",
    "\n",
    "\n",
    "# cleaned data by only including non empty columns \n",
    "\n",
    "player_data <- player_data |>\n",
    "          select(hashedEmail, played_hours,\tname, gender, age, experience) |>\n",
    "          mutate(experience_num = case_when(experience == \"Beginner\" ~ 1,\n",
    "                                  experience == \"Amateur\" ~ 2,\n",
    "                                  experience == \"Regular\" ~ 3, \n",
    "                                  experience == \"Pro\" ~ 4, \n",
    "                                  experience == \"Veteran\" ~ 5))\n",
    "    \n",
    "\n",
    "\n",
    "# seperated date and time into two seperate columns since you can only have one value in a single cell\n",
    "# removed original_start_time and original_end_time since they are in unix time arent very useful as we already have start_time and end_time and \n",
    "# do not provide valuable session length data since subtracting them gives 0 in most cases \n",
    "\n",
    "session_data <- session_data |>\n",
    "  mutate(start_time = dmy_hm(start_time), end_time = dmy_hm(end_time)) |>\n",
    "  separate(start_time, into = c(\"start_date\", \"start_time_only\"), sep = \" \", convert = TRUE) |>\n",
    "  separate(end_time, into = c(\"end_date\", \"end_time_only\"), sep = \" \", convert = TRUE) |>\n",
    "  select(hashedEmail, start_date, start_time_only, end_date, end_time_only)\n",
    "\n",
    "session_data\n",
    "\n",
    "player_data\n",
    "\n",
    "\n",
    "\n",
    "       \n",
    "       \n",
    "       \n",
    "       # start with 0 or 1, whatever you want. also check me on amateur being the bottom lol\n",
    "\n",
    "\n",
    "\n",
    "# scatter plot with age on x axis and played_hours on y axis \n",
    "# age_and_time_plot <- player_data |>\n",
    "#   ggplot(aes(x = age, y = played_hours)) +\n",
    "#   geom_point(color = \"blue\", size = 1, alpha = 0.7) +\n",
    "#   labs(title = \"Relationship Between Age and Time Played (log scale)\", x = \"Age (years)\", y = \"Time Played (Hours log scaled)\") +\n",
    "#   scale_y_log10()\n",
    "\n",
    "# age_and_time_plot\n",
    "\n",
    "\n",
    "# # scatter plot with experience on x axis and played_hours on y axis \n",
    "# experience_and_time_plot <- player_data |>\n",
    "#   ggplot(aes(x = experience, y = played_hours)) +\n",
    "#   geom_point(color = \"blue\", size = 3, alpha = 0.7) +  \n",
    "#   labs(title = \"Relationship Between Experience and Played Hours\", x = \"Experience Level\", y = \"Time Played (Hours)\") \n",
    "\n",
    "# experience_and_time_plot\n"
   ]
  },
  {
   "cell_type": "markdown",
   "id": "91c1741e-0871-4faf-a81a-86ff6819ed96",
   "metadata": {},
   "source": []
  },
  {
   "cell_type": "markdown",
   "id": "c806ebcd-b2ea-49b7-87e4-9ca09d81fbb1",
   "metadata": {},
   "source": []
  },
  {
   "cell_type": "code",
   "execution_count": null,
   "id": "c6fde47e-7bf4-45f8-a8df-9e06cc80c4c6",
   "metadata": {},
   "outputs": [],
   "source": []
  }
 ],
 "metadata": {
  "kernelspec": {
   "display_name": "R",
   "language": "R",
   "name": "ir"
  },
  "language_info": {
   "codemirror_mode": "r",
   "file_extension": ".r",
   "mimetype": "text/x-r-source",
   "name": "R",
   "pygments_lexer": "r",
   "version": "4.3.3"
  }
 },
 "nbformat": 4,
 "nbformat_minor": 5
}
